{
 "cells": [
  {
   "cell_type": "raw",
   "id": "5cf29d8b-632c-4310-bd41-f03e8acbdf70",
   "metadata": {},
   "source": [
    "Industrial Training Daily Diary\n",
    "Day 3\n",
    "Date: June 25\n",
    "Topic: Python Lists – Fundamental Operations & Problem Solving\n",
    "\n",
    "Objectives of the Day\n",
    "• Reinforce understanding of Python Lists through practical problem-solving.\n",
    "• Implement logical operations using list manipulation.\n",
    "• Strengthen problem-solving capabilities using Python list structures.\n",
    "\n",
    "Topics Covered\n",
    "Review of Python List Fundamentals\n",
    "• Lists as ordered, mutable collections.\n",
    "• Use of built-in functions: len(), append(), remove(), pop(), and slicing techniques."
   ]
  },
  {
   "cell_type": "code",
   "execution_count": 9,
   "id": "e9fb44b9-cf0a-4e70-a995-3a33b4b3dbff",
   "metadata": {},
   "outputs": [
    {
     "name": "stdout",
     "output_type": "stream",
     "text": [
      "[153, 370, 371, 407]\n"
     ]
    }
   ],
   "source": [
    "# 1. Write a program to print armstrong numbers between 100 to 1000\n",
    "\n",
    "def count_digits(num):\n",
    "    count = 0\n",
    "    while (num != 0):\n",
    "        num = int(num / 10)\n",
    "        count = count + 1\n",
    "    return count\n",
    "\n",
    "def check_armstrong(num) : \n",
    "    x = num\n",
    "    digits = count_digits(num)\n",
    "    sum = 0\n",
    "    \n",
    "    while(num != 0 ):\n",
    "        r = int(num%10)\n",
    "        sum = sum + r**(digits)\n",
    "        num = int(num/10)\n",
    "    \n",
    "    if(sum == x):\n",
    "        return 1\n",
    "    else:\n",
    "        return -1\n",
    "\n",
    "#100-1000\n",
    "list = []\n",
    "for i in range(100,1001):\n",
    "    flag = check_armstrong(i)\n",
    "    if(flag == 1) :\n",
    "        list.append(i)\n",
    "    else:\n",
    "        continue\n",
    "print(list)        \n",
    "    "
   ]
  },
  {
   "cell_type": "code",
   "execution_count": 10,
   "id": "58d43d94-bf8e-4cc1-b51d-4672d5c59f8b",
   "metadata": {},
   "outputs": [
    {
     "name": "stdout",
     "output_type": "stream",
     "text": [
      "[1, 4, 9, 16, 25, 36, 49]\n"
     ]
    }
   ],
   "source": [
    "# 2. Given a Python list of numbers. Turn every item on a list into its square\n",
    "\n",
    "# Given:\n",
    "\n",
    "# aList = [1, 2, 3, 4, 5, 6, 7]\n",
    "# Expected output:\n",
    "\n",
    "# [1, 4, 9, 16, 25, 36, 49]\n",
    "\n",
    "list = [1, 2, 3, 4, 5, 6, 7]\n",
    "for i in range(len(list)):\n",
    "    list[i] = list[i] * list[i]\n",
    "print(list)    "
   ]
  },
  {
   "cell_type": "code",
   "execution_count": 11,
   "id": "3d715b8f-0383-4b49-b1bd-5dd635abe62a",
   "metadata": {},
   "outputs": [
    {
     "name": "stdout",
     "output_type": "stream",
     "text": [
      "[5, 10, 15, 200, 25, 50, 20]\n"
     ]
    }
   ],
   "source": [
    "# 3. Given a Python list, find value 20 in the list, and if it is present, replace it with 200. Only update the first occurrence of a value\n",
    "# Given\n",
    "\n",
    "# list1 = [5, 10, 15, 20, 25, 50, 20]\n",
    "# Expected output:\n",
    "\n",
    "# list1 = [5, 10, 15, 200, 25, 50, 20]\n",
    "# Fri, 17:08\n",
    "\n",
    "list1 = [5, 10, 15, 20, 25, 50, 20]\n",
    "target = 20\n",
    "replacement = 200\n",
    "for i in range(0,len(list1)):\n",
    "    if list1[i] == target : \n",
    "        list1[i] = replacement \n",
    "        break \n",
    "    else : \n",
    "        continue\n",
    "print(list1)        "
   ]
  },
  {
   "cell_type": "code",
   "execution_count": 12,
   "id": "2c94de9b-ea4f-4534-909c-f2173711b625",
   "metadata": {},
   "outputs": [
    {
     "name": "stdout",
     "output_type": "stream",
     "text": [
      "[2002, 2009, 2016, 2023, 2037, 2044, 2051, 2058, 2072, 2079, 2086, 2093, 2107, 2114, 2121, 2128, 2142, 2149, 2156, 2163, 2177, 2184, 2191, 2198, 2212, 2219, 2226, 2233, 2247, 2254, 2261, 2268, 2282, 2289, 2296, 2303, 2317, 2324, 2331, 2338, 2352, 2359, 2366, 2373, 2387, 2394, 2401, 2408, 2422, 2429, 2436, 2443, 2457, 2464, 2471, 2478, 2492, 2499, 2506, 2513, 2527, 2534, 2541, 2548, 2562, 2569, 2576, 2583, 2597, 2604, 2611, 2618, 2632, 2639, 2646, 2653, 2667, 2674, 2681, 2688, 2702, 2709, 2716, 2723, 2737, 2744, 2751, 2758, 2772, 2779, 2786, 2793, 2807, 2814, 2821, 2828, 2842, 2849, 2856, 2863, 2877, 2884, 2891, 2898, 2912, 2919, 2926, 2933, 2947, 2954, 2961, 2968, 2982, 2989, 2996, 3003, 3017, 3024, 3031, 3038, 3052, 3059, 3066, 3073, 3087, 3094, 3101, 3108, 3122, 3129, 3136, 3143, 3157, 3164, 3171, 3178, 3192, 3199]\n"
     ]
    }
   ],
   "source": [
    "# 4.  Write a program that will find all such numbers which are divisible by 7 but are not a multiple of 5,\n",
    "# between 2000 and 3200 (both included).\n",
    "\n",
    "list = []\n",
    "for i in range(2000,3201):\n",
    "    if (i%7==0 and i%5!=0):\n",
    "        list.append(i)\n",
    "print(list)   "
   ]
  },
  {
   "cell_type": "code",
   "execution_count": 13,
   "id": "909a2fcb-bf54-43a5-9ca6-b54b955950f0",
   "metadata": {},
   "outputs": [
    {
     "name": "stdout",
     "output_type": "stream",
     "text": [
      "['Mike', 'Emma', 'Kelly', 'Brad']\n"
     ]
    }
   ],
   "source": [
    "# 5. Remove empty strings from the list of strings\n",
    "# list1 = [\"Mike\", \"\", \"Emma\", \"Kelly\", \"\", \"Brad\"]\n",
    "# Expected output:\n",
    "\n",
    "# [\"Mike\", \"Emma\", \"Kelly\", \"Brad\"]\n",
    "\n",
    "list1 = [\"Mike\", \"\", \"Emma\", \"Kelly\", \"\", \"Brad\"]\n",
    "for i in list1:\n",
    "    if i == \"\" :\n",
    "        list1.remove(i)\n",
    "print(list1)        \n"
   ]
  },
  {
   "cell_type": "code",
   "execution_count": 14,
   "id": "5b7cb4cf-b207-479f-a3a5-ad0ec6efe256",
   "metadata": {},
   "outputs": [
    {
     "name": "stdout",
     "output_type": "stream",
     "text": [
      "5 0\n"
     ]
    }
   ],
   "source": [
    "# 6. Write a Python program to find the maximum and minimum values in a given list  \n",
    "# Original list:\n",
    "# [4, 3, 0, 5, 3, 0, 2, 3, 4, 2, 4, 3, 5]\n",
    "\n",
    "# Maximum and minimum values of the said given list within the index range:\n",
    "# Maximum number 5\n",
    "# Minimum number 0\n",
    "\n",
    "list =  [4, 3, 0, 5, 3, 0, 2, 3, 4, 2, 4, 3, 5]\n",
    "max = list[0]\n",
    "min = list[0]\n",
    "\n",
    "for i in list :\n",
    "    if i>max : \n",
    "        max = i \n",
    "    if i<min :\n",
    "        min = i\n",
    "print(max,min)     "
   ]
  },
  {
   "cell_type": "code",
   "execution_count": 15,
   "id": "bda39bc2-4996-4e3f-97d2-e55e9946f6e4",
   "metadata": {},
   "outputs": [
    {
     "name": "stdout",
     "output_type": "stream",
     "text": [
      "113350\n"
     ]
    }
   ],
   "source": [
    "# 7. Write a Python program to convert a list of multiple integers into a single integer. \n",
    "# Sample list: [11, 33, 50]\n",
    "# Expected Output: 113350\n",
    "\n",
    "string = \"\"\n",
    "list =  [11, 33, 50]\n",
    "for i in list:\n",
    "    temp = str(i)\n",
    "    string = string + temp\n",
    "print(string)    "
   ]
  },
  {
   "cell_type": "code",
   "execution_count": 16,
   "id": "63366e13-b4d7-4e48-936a-4b317c760b01",
   "metadata": {},
   "outputs": [
    {
     "name": "stdout",
     "output_type": "stream",
     "text": [
      "[4, 3, 2, 1]\n"
     ]
    }
   ],
   "source": [
    "# 8. reverse a list.\n",
    "# [1, 2, 3, 4]  ➞ [4, 3, 2, 1]\n",
    "\n",
    "list = [1, 2, 3, 4]\n",
    "reverse = []\n",
    "for i in range(len(list)-1,-1,-1):\n",
    "    reverse.append(list[i])\n",
    "print(reverse)  "
   ]
  },
  {
   "cell_type": "code",
   "execution_count": 17,
   "id": "8cdf8799-8cd5-4edb-b1f3-23df0c11ecd7",
   "metadata": {},
   "outputs": [
    {
     "name": "stdout",
     "output_type": "stream",
     "text": [
      "44\n"
     ]
    }
   ],
   "source": [
    "# 9. the sum of elements of the list\n",
    "\n",
    "# [7, 8, 5, 2, 10, 12]\n",
    "sum=0\n",
    "\n",
    "list = [7, 8, 5, 2, 10, 12]\n",
    "for i in list :\n",
    "    sum = sum +i\n",
    "print(sum)    "
   ]
  },
  {
   "cell_type": "code",
   "execution_count": 18,
   "id": "618e19cf-b2c5-45f3-8010-0129ee9e8c8f",
   "metadata": {},
   "outputs": [
    {
     "name": "stdout",
     "output_type": "stream",
     "text": [
      "[7, 8, 5, 2, 10, 12, 0, 0, 0]\n"
     ]
    }
   ],
   "source": [
    "# 10. Write a Python program to push all zeros to the end of a list.\n",
    "# [7, 8,0, 5, 2,0, 10, 12,0]\n",
    "\n",
    "\n",
    "# o/p =  [7, 8, 5, 2, 10, 12,0,0,0]\n",
    "\n",
    "list = [7, 8,0, 5, 2,0, 10, 12,0]\n",
    "for i in list :\n",
    "    if i == 0 :\n",
    "        list.remove(i)\n",
    "        list.append(0)\n",
    "print(list)        \n"
   ]
  },
  {
   "cell_type": "code",
   "execution_count": null,
   "id": "bcb027b8-4f3e-4e22-8629-fe6581ad0297",
   "metadata": {},
   "outputs": [],
   "source": []
  }
 ],
 "metadata": {
  "kernelspec": {
   "display_name": "Python 3 (ipykernel)",
   "language": "python",
   "name": "python3"
  },
  "language_info": {
   "codemirror_mode": {
    "name": "ipython",
    "version": 3
   },
   "file_extension": ".py",
   "mimetype": "text/x-python",
   "name": "python",
   "nbconvert_exporter": "python",
   "pygments_lexer": "ipython3",
   "version": "3.13.1"
  }
 },
 "nbformat": 4,
 "nbformat_minor": 5
}
