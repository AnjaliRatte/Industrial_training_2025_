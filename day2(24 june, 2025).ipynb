{
 "cells": [
  {
   "cell_type": "raw",
   "id": "d7194a45-c59a-4d75-8077-7be6995b7c67",
   "metadata": {},
   "source": [
    "Industrial Training Daily Diary\n",
    " Day 1\n",
    " Topic: Introduction to Python Programming – Basics\n",
    " 🧾Objectives of the Day\n",
    " •Introduction to Functions in Python\n",
    " • Lists and Tuples\n",
    " • Basic programs using lists\n",
    " • Problem-solving with functions"
   ]
  },
  {
   "cell_type": "code",
   "execution_count": 1,
   "id": "99f5217a-0473-4d2b-a081-b8f278bb410c",
   "metadata": {},
   "outputs": [
    {
     "name": "stdout",
     "output_type": "stream",
     "text": [
      "    1   \n",
      "   1 2   \n",
      "  1 2 3   \n",
      " 1 2 3 4   \n",
      "\n"
     ]
    }
   ],
   "source": [
    "'''\n",
    "1. write a program to print following pattern\n",
    "   1\n",
    "  1 2\n",
    " 1 2 3\n",
    "1 2 3 4\n",
    "'''\n",
    "from ctypes.wintypes import tagMSG\n",
    "\n",
    "s=\" \"\n",
    "n=4\n",
    "a=\"\"\n",
    "for i in range(1,5):\n",
    "    x=n-i\n",
    "    a = a + str(i) + \" \"\n",
    "    print(x *s ,a, ' ')\n",
    "print()"
   ]
  },
  {
   "cell_type": "code",
   "execution_count": 2,
   "id": "d0fabb5f-18f5-4e48-a447-00cbf69001c9",
   "metadata": {},
   "outputs": [
    {
     "name": "stdout",
     "output_type": "stream",
     "text": [
      "10 9 8 7 \n",
      "6 5 4 \n",
      "3 2 \n",
      "1 \n",
      "\n"
     ]
    }
   ],
   "source": [
    "'''\n",
    "2. write a program to print following pattern\n",
    "10 9 8 7 \n",
    "6 5 4\n",
    "3 2\n",
    "1\n",
    "'''\n",
    "c=11\n",
    "for i in range(4,0,-1):\n",
    "    for j in range(i):\n",
    "        c=c-1\n",
    "        print(c,end=\" \")\n",
    "    print()\n",
    "print()"
   ]
  },
  {
   "cell_type": "code",
   "execution_count": 3,
   "id": "b9d9dc5a-1b2b-4cbd-b5bc-a0f2ab210588",
   "metadata": {},
   "outputs": [
    {
     "name": "stdout",
     "output_type": "stream",
     "text": [
      "1\n",
      "21\n",
      "123\n",
      "4321\n",
      "\n"
     ]
    }
   ],
   "source": [
    "'''\n",
    "3. write a program to print following pattern\n",
    "1\n",
    "2 1\n",
    "1 2 3\n",
    "4 3 2 1\n",
    "'''\n",
    "\n",
    "def reverse(num):\n",
    "    sum = 0\n",
    "    while (num != 0):\n",
    "        r = int (num % 10)\n",
    "        sum = sum * 10 + r\n",
    "        num = int(num / 10)\n",
    "    return str(sum)\n",
    "\n",
    "s = \"\"\n",
    "for i in range(1,5):\n",
    "    if(i%2==0):\n",
    "        s = s + str(i)\n",
    "        k = reverse(int(s))\n",
    "        print(k)\n",
    "    else:\n",
    "        s=s + str(i)\n",
    "        print(s)\n",
    "print()"
   ]
  },
  {
   "cell_type": "code",
   "execution_count": 9,
   "id": "ef8bee85-522e-43dc-b924-26378c716740",
   "metadata": {},
   "outputs": [
    {
     "name": "stdout",
     "output_type": "stream",
     "text": [
      "10 9 8 7 \n",
      "4 5 6 \n",
      "3 2 \n",
      "1 \n",
      "\n"
     ]
    }
   ],
   "source": [
    "'''\n",
    "4. write a program to print following pattern\n",
    "10 9 8 7\n",
    "4 5 6\n",
    "3 2\n",
    "1\n",
    "'''\n",
    "x = 10\n",
    "for i in range(4,0,-1):\n",
    "    tmp = \"\"\n",
    "    s=\" \"\n",
    "    for j in range(i):\n",
    "\n",
    "        if i % 2 == 0:\n",
    "            tmp = tmp + str(x) + s\n",
    "        else:\n",
    "            tmp =   str(x)+ s + tmp \n",
    "        x = x - 1\n",
    "    print(tmp)\n",
    "print()    "
   ]
  },
  {
   "cell_type": "code",
   "execution_count": null,
   "id": "008e8321-6b23-467d-9c3b-84e53d0e5fdf",
   "metadata": {},
   "outputs": [],
   "source": []
  }
 ],
 "metadata": {
  "kernelspec": {
   "display_name": "Python 3 (ipykernel)",
   "language": "python",
   "name": "python3"
  },
  "language_info": {
   "codemirror_mode": {
    "name": "ipython",
    "version": 3
   },
   "file_extension": ".py",
   "mimetype": "text/x-python",
   "name": "python",
   "nbconvert_exporter": "python",
   "pygments_lexer": "ipython3",
   "version": "3.13.1"
  }
 },
 "nbformat": 4,
 "nbformat_minor": 5
}
