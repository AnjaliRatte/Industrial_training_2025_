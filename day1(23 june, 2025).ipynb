{
 "cells": [
  {
   "cell_type": "raw",
   "id": "51bb6d78-0dc7-4b77-8ba7-da17a51974e2",
   "metadata": {},
   "source": [
    "\n",
    " ️Industrial Training Daily Diary\n",
    " Day 1\n",
    " Topic: Introduction to Python Programming – Basics\n",
    " 🧾Objectives of the Day\n",
    " • To introduce students to the fundamentals of Python programming.\n",
    " • To develop an understanding of basic programming constructs including variables, \n",
    "operators, data types, conditional statements, loops, typecasting, operator overloading, and \n",
    "basic pattern printing."
   ]
  },
  {
   "cell_type": "code",
   "execution_count": null,
   "id": "bc608151-80ee-468d-8a24-3cf4756e8276",
   "metadata": {},
   "outputs": [
    {
     "name": "stdout",
     "output_type": "stream",
     "text": [
      " enter input : \n"
     ]
    }
   ],
   "source": [
    "# 1.write a program to check whether number is odd or even\n",
    "\n",
    "print (\" enter input : \")\n",
    "x = int(input())\n",
    "if(x%2 == 0 ) :\n",
    "    print(\"Even number\")\n",
    "else :\n",
    "    print(\"Odd number\")\n",
    "    "
   ]
  },
  {
   "cell_type": "code",
   "execution_count": 4,
   "id": "06015915-58db-46a6-a119-3697919270de",
   "metadata": {},
   "outputs": [
    {
     "name": "stdout",
     "output_type": "stream",
     "text": [
      " enter input : \n"
     ]
    },
    {
     "name": "stdin",
     "output_type": "stream",
     "text": [
      " 7\n"
     ]
    },
    {
     "name": "stdout",
     "output_type": "stream",
     "text": [
      "prime\n"
     ]
    }
   ],
   "source": [
    "# 2.write a program to check whether number is prime or not\n",
    "\n",
    "count = 0\n",
    "print (\" enter input : \")\n",
    "x = int(input())\n",
    "for i in range(2,x):\n",
    "    if (x%i ==0):\n",
    "        count = count+1\n",
    "if(count==0):\n",
    "    print(\"prime\")\n",
    "else:\n",
    "    print(\"not prime\")"
   ]
  },
  {
   "cell_type": "code",
   "execution_count": 5,
   "id": "6235ef21-586a-4b72-96ea-fa159b88b91a",
   "metadata": {},
   "outputs": [
    {
     "name": "stdout",
     "output_type": "stream",
     "text": [
      "0\n",
      "1\n",
      "1\n",
      "2\n",
      "3\n",
      "5\n",
      "8\n",
      "13\n",
      "21\n",
      "34\n",
      "55\n",
      "89\n"
     ]
    }
   ],
   "source": [
    "# 3. write a program to print fibbonacci series upto 10 terms \n",
    "\n",
    "a = 0\n",
    "b = 1\n",
    "print(a)\n",
    "print(b)\n",
    "\n",
    "for i in range(10):\n",
    "    c = a  + b\n",
    "    print(c)\n",
    "    a = b\n",
    "    b = c"
   ]
  },
  {
   "cell_type": "code",
   "execution_count": 6,
   "id": "0ba184eb-93f8-4285-9a84-f601e9595cad",
   "metadata": {},
   "outputs": [
    {
     "name": "stdout",
     "output_type": "stream",
     "text": [
      "1\n",
      "3\n",
      "5\n",
      "7\n",
      "9\n",
      "11\n",
      "13\n",
      "15\n",
      "17\n",
      "19\n",
      "21\n",
      "23\n",
      "25\n",
      "27\n",
      "29\n",
      "31\n",
      "33\n",
      "35\n",
      "37\n",
      "39\n",
      "41\n",
      "43\n",
      "45\n",
      "47\n",
      "49\n"
     ]
    }
   ],
   "source": [
    "# 4. write a program to print odd numbers between 1 to 50\n",
    "\n",
    "for i in range(1,51):\n",
    "    if(i%2 != 0 ):\n",
    "        print(i)"
   ]
  },
  {
   "cell_type": "code",
   "execution_count": 7,
   "id": "74959595-d787-425a-9a00-f15fd1b863e7",
   "metadata": {},
   "outputs": [
    {
     "name": "stdout",
     "output_type": "stream",
     "text": [
      "Enter number : \n"
     ]
    },
    {
     "name": "stdin",
     "output_type": "stream",
     "text": [
      " 28\n"
     ]
    },
    {
     "name": "stdout",
     "output_type": "stream",
     "text": [
      "Perfect number\n"
     ]
    }
   ],
   "source": [
    "# 5. write a program to check whether number is perfect or not\n",
    "\n",
    "print(\"Enter number : \")\n",
    "x = int(input())\n",
    "sum = 0\n",
    "for i in range(1,x):\n",
    "    if(x%i==0):\n",
    "        sum = sum+i\n",
    "\n",
    "if(sum==x):\n",
    "    print(\"Perfect number\")\n",
    "else:\n",
    "    print(\"not perfect number\")"
   ]
  },
  {
   "cell_type": "code",
   "execution_count": 8,
   "id": "64292562-ba32-480a-a368-0b4e31cc37e1",
   "metadata": {},
   "outputs": [
    {
     "name": "stdout",
     "output_type": "stream",
     "text": [
      "Reversed number is : \n",
      "54321\n"
     ]
    }
   ],
   "source": [
    "# 6. write a program to reverse a number \n",
    "\n",
    "num = 12345\n",
    "sum = 0\n",
    "while (num != 0):\n",
    "    r = int (num % 10)\n",
    "    sum = sum * 10 + r\n",
    "    num = int(num / 10)\n",
    "print(\"Reversed number is : \")\n",
    "print(sum)"
   ]
  },
  {
   "cell_type": "code",
   "execution_count": 9,
   "id": "0d8e31d2-c106-4f5f-8cb4-632d7e599c5b",
   "metadata": {},
   "outputs": [
    {
     "name": "stdout",
     "output_type": "stream",
     "text": [
      "Enter number : \n"
     ]
    },
    {
     "name": "stdin",
     "output_type": "stream",
     "text": [
      " 153\n"
     ]
    },
    {
     "name": "stdout",
     "output_type": "stream",
     "text": [
      "Armstrong\n"
     ]
    }
   ],
   "source": [
    "# 7. Write a program to check whether a number is Armstrong number or not\n",
    "\n",
    "def count_digits(num):\n",
    "    count = 0\n",
    "    while (num != 0):\n",
    "        num = int(num / 10)\n",
    "        count = count + 1\n",
    "    return count\n",
    "\n",
    "\n",
    "print(\"Enter number : \")\n",
    "num = int(input())\n",
    "x = num\n",
    "digits = count_digits(num)\n",
    "sum = 0\n",
    "\n",
    "while(num != 0 ):\n",
    "    r = int(num%10)\n",
    "    sum = sum + r**(digits)\n",
    "    num = int(num/10)\n",
    "\n",
    "if(sum == x):\n",
    "    print(\"Armstrong\")\n",
    "else:\n",
    "    print(\"not armstrong\")\n",
    "    "
   ]
  },
  {
   "cell_type": "code",
   "execution_count": 10,
   "id": "32404d99-267d-414f-9c9a-b20979d95c43",
   "metadata": {},
   "outputs": [
    {
     "name": "stdout",
     "output_type": "stream",
     "text": [
      "1\n",
      "22\n",
      "333\n",
      "4444\n"
     ]
    }
   ],
   "source": [
    "# 8. Write a program to print following pattern\n",
    "# 1\n",
    "# 22\n",
    "# 333\n",
    "# 4444\n",
    "\n",
    "for i in range(1,5):\n",
    "    print(i * str(i))"
   ]
  },
  {
   "cell_type": "code",
   "execution_count": 11,
   "id": "4d8402f7-f357-4857-ba48-9b30e63af53a",
   "metadata": {},
   "outputs": [
    {
     "name": "stdout",
     "output_type": "stream",
     "text": [
      "*****\n",
      "****\n",
      "***\n",
      "**\n",
      "*\n"
     ]
    }
   ],
   "source": [
    "# 9. Write a program to print following pattern\n",
    "# *****\n",
    "# ****\n",
    "# ***\n",
    "# **\n",
    "#*\n",
    "num = 5\n",
    "while(num!=0):\n",
    "    print(\"*\" * num)\n",
    "    num = num-1"
   ]
  },
  {
   "cell_type": "code",
   "execution_count": 13,
   "id": "1c14c689-75fe-43fe-8808-04b2466d5814",
   "metadata": {},
   "outputs": [
    {
     "name": "stdout",
     "output_type": "stream",
     "text": [
      "1\n",
      "12\n",
      "123\n",
      "1234\n"
     ]
    }
   ],
   "source": [
    "# 10. Write a program to print following pattern\n",
    "# 1\n",
    "# 12\n",
    "# 123\n",
    "# 1234\n",
    "\n",
    "s = \"\"\n",
    "\n",
    "for i in range(1,5):\n",
    "    s = s + str(i)\n",
    "    print(s)"
   ]
  },
  {
   "cell_type": "code",
   "execution_count": 14,
   "id": "f8ecd55f-c647-4a78-90b4-a85611db90ff",
   "metadata": {},
   "outputs": [
    {
     "name": "stdout",
     "output_type": "stream",
     "text": [
      "     *\n",
      "    **\n",
      "   ***\n",
      "  ****\n"
     ]
    }
   ],
   "source": [
    "# 11. Write a program to print following pattern\n",
    "  #    *\n",
    "  #   **\n",
    "  #  ***\n",
    "  # ****\n",
    "\n",
    "n = 5\n",
    "s = ' '\n",
    "for i in range(1,5):\n",
    "    n=n-1\n",
    "    print(s * n , i * '*')"
   ]
  },
  {
   "cell_type": "code",
   "execution_count": 15,
   "id": "7c6e6921-e18e-4421-8901-eb522ef79644",
   "metadata": {},
   "outputs": [
    {
     "name": "stdout",
     "output_type": "stream",
     "text": [
      "1\n",
      "00\n",
      "111\n",
      "0000\n"
     ]
    }
   ],
   "source": [
    "# 12. Write a program to print following pattern\n",
    "# 1\n",
    "# 00\n",
    "# 111\n",
    "# 0000\n",
    "\n",
    "o = '1'\n",
    "e = '0'\n",
    "for i in range(1,5):\n",
    "    if(i%2 == 0):\n",
    "        print(i * e)\n",
    "    else:\n",
    "        print(i * o)"
   ]
  },
  {
   "cell_type": "code",
   "execution_count": 16,
   "id": "770284fa-a776-4c23-ac7d-2dcf93b36d6d",
   "metadata": {},
   "outputs": [
    {
     "name": "stdout",
     "output_type": "stream",
     "text": [
      "1\n",
      "10\n",
      "101\n",
      "1010\n"
     ]
    }
   ],
   "source": [
    "# 13. Write a program to print following pattern\n",
    "# 1\n",
    "# 10\n",
    "# 101\n",
    "# 1010\n",
    "\n",
    "s = \"\"\n",
    "o = \"1\"\n",
    "e = \"0\"\n",
    "for i in range(1,5):\n",
    "    if(i%2==0):\n",
    "        s=s+e\n",
    "        print(s)\n",
    "    else:\n",
    "        s=s+o\n",
    "        print(s)\n"
   ]
  },
  {
   "cell_type": "code",
   "execution_count": 18,
   "id": "f1867d95-d933-4ba8-b63c-91ccc73bac6c",
   "metadata": {},
   "outputs": [
    {
     "name": "stdout",
     "output_type": "stream",
     "text": [
      "1 \n",
      "2 3 \n",
      "4 5 6 \n",
      "7 8 9 10 \n"
     ]
    }
   ],
   "source": [
    "# 14. Write a program to print following pattern\n",
    "# 1\n",
    "# 2 3\n",
    "# 4 5 6\n",
    "# 7 8 9 10\n",
    "\n",
    "c=0\n",
    "for i in range(1,5):\n",
    "    for j in range(i):\n",
    "        c+=1\n",
    "        print(c,end=\" \")\n",
    "    print()"
   ]
  },
  {
   "cell_type": "raw",
   "id": "6999e086-bade-4a02-bea6-0666a97f9cdb",
   "metadata": {},
   "source": [
    "📘Topics Covered\n",
    " 1. Introduction to Python\n",
    " • Python is a high-level, interpreted, and general-purpose programming language.\n",
    " • It emphasizes code readability and allows programmers to express concepts in fewer lines of\n",
    " code.\n",
    " • Widely used in domains such as web development, data analysis, artificial intelligence, \n",
    "automation, and machine learning.\n",
    " 2. Variables\n",
    " • Variables are containers used to store data values.\n",
    " • In Python, variable declaration does not require explicitly defining the data type (dynamic \n",
    "typing).\n",
    " • Example:\n",
    " name = \"John\"  \n",
    "age = 25  \n",
    "3. Operators\n",
    " • Arithmetic Operators: +, -, *, /, //, %, **\n",
    " • Assignment Operators: =, +=, -=, *=, /=\n",
    " • Comparison Operators: ==, !=, >, <, >=, <=\n",
    " • Logical Operators: and, or, not\n",
    " • Bitwise Operators: &, |, ^, ~, <<, >>\n",
    "4. Data Types\n",
    " • Numeric: int, float, complex\n",
    " • Text Type: str\n",
    " • Boolean: bool\n",
    " • Sequence Types: list, tuple, range\n",
    " • Set Types: set, frozenset\n",
    " • Mapping Type: dict\n",
    " Example:\n",
    " x = 10              # Integer  \n",
    "pi = 3.14           # Float  \n",
    "name = \"Alice\"      # String  \n",
    "values = [1, 2, 3]  # List  \n",
    "5. Conditional Statements (if-else)\n",
    " • Used to execute code blocks based on specified conditions.\n",
    " Example:\n",
    " if age >= 18:\n",
    "    print(\"Eligible to vote\")\n",
    " else:\n",
    "    print(\"Not eligible\")\n",
    " 6. Loops (For Loop)\n",
    " • A for loop is used to iterate over sequences like lists, strings, or a range of numbers.\n",
    " Example:\n",
    " for i in range(5):\n",
    "    print(i)\n",
    " 7. Operator Overloading\n",
    " • Python allows customization of standard operators for user-defined classes.\n",
    " Example:\n",
    " a = 10\n",
    " b = 20\n",
    " c = “hello”\n",
    " d = “world”\n",
    " a+b\n",
    " c+d\n",
    " 8. Typecasting\n",
    " • Implicit Typecasting: Done automatically by Python.\n",
    " • Explicit Typecasting: Manually converting data types using functions like int(), \n",
    "float(), and str().\n",
    " Example:\n",
    "x = \"10\"\n",
    " y = int(x) + 5   # Output: 15\n",
    " 9. Pattern Printing\n",
    " • Helps build logic and control flow understanding through nested loops.\n",
    " Example:\n",
    " for i in range(1, 6):\n",
    "    print(\"*\" * i)\n",
    " Output:\n",
    " *\n",
    " **\n",
    " ***\n",
    " ****\n",
    " *****"
   ]
  },
  {
   "cell_type": "code",
   "execution_count": null,
   "id": "b8fec787-d0e2-4859-8045-77f449c9d975",
   "metadata": {},
   "outputs": [],
   "source": []
  }
 ],
 "metadata": {
  "kernelspec": {
   "display_name": "Python 3 (ipykernel)",
   "language": "python",
   "name": "python3"
  },
  "language_info": {
   "codemirror_mode": {
    "name": "ipython",
    "version": 3
   },
   "file_extension": ".py",
   "mimetype": "text/x-python",
   "name": "python",
   "nbconvert_exporter": "python",
   "pygments_lexer": "ipython3",
   "version": "3.13.1"
  }
 },
 "nbformat": 4,
 "nbformat_minor": 5
}
